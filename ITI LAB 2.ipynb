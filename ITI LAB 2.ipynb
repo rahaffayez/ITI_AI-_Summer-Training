{
 "cells": [
  {
   "cell_type": "markdown",
   "id": "ee75730f",
   "metadata": {},
   "source": [
    "# 1-We need to print 0,3,6,9,12 using for loop"
   ]
  },
  {
   "cell_type": "code",
   "execution_count": 2,
   "id": "9e7a9224",
   "metadata": {},
   "outputs": [
    {
     "name": "stdout",
     "output_type": "stream",
     "text": [
      "0 3 6 9 12 "
     ]
    }
   ],
   "source": [
    "for i in range(0,13,3):\n",
    "    print(i,end=\" \")"
   ]
  },
  {
   "cell_type": "markdown",
   "id": "18df199f",
   "metadata": {},
   "source": [
    "# 2-We need to print 0 ,3 ,6 ,9 ,12 and index of positions using for loop -> hint: enumerate function \n"
   ]
  },
  {
   "cell_type": "code",
   "execution_count": 3,
   "id": "a16eaeea",
   "metadata": {},
   "outputs": [
    {
     "name": "stdout",
     "output_type": "stream",
     "text": [
      "index 0 value 0\n",
      "index 1 value 3\n",
      "index 2 value 6\n",
      "index 3 value 9\n",
      "index 4 value 12\n"
     ]
    }
   ],
   "source": [
    "numbers=[0,3,6,9,12]\n",
    "for index, value in enumerate(numbers):\n",
    "    print(\"index\",index,\"value\",value)"
   ]
  },
  {
   "cell_type": "markdown",
   "id": "2b0ae9ca",
   "metadata": {},
   "source": [
    "# 3- Given a list of numbers. write a program to turn every item of a list into its square\n",
    "\tlst = [1, 2, 3, 4, 5, 6, 7]\n",
    "\tresult = [1, 4, 9, 16, 25, 36, 49] \n",
    "\n"
   ]
  },
  {
   "cell_type": "code",
   "execution_count": 7,
   "id": "0b3d45bd",
   "metadata": {},
   "outputs": [
    {
     "name": "stdout",
     "output_type": "stream",
     "text": [
      "[1, 4, 9, 16, 25, 36, 49]\n"
     ]
    }
   ],
   "source": [
    "lst = [1, 2, 3, 4, 5, 6, 7]\n",
    "result = [x ** 2 for x in lst]\n",
    "print(result)"
   ]
  },
  {
   "cell_type": "markdown",
   "id": "d6cf7945",
   "metadata": {},
   "source": [
    "# 4- Calculate the sum of all numbers from 1 to an input number from user \n"
   ]
  },
  {
   "cell_type": "code",
   "execution_count": 9,
   "id": "f56ec0e4",
   "metadata": {},
   "outputs": [
    {
     "name": "stdout",
     "output_type": "stream",
     "text": [
      "Enter a number :5\n",
      "15\n"
     ]
    }
   ],
   "source": [
    "i=1\n",
    "sum=0\n",
    "num=int(input(\"Enter a number :\"))\n",
    "while i<=num:\n",
    "    sum+=i\n",
    "    i+=1\n",
    "print(sum)    "
   ]
  },
  {
   "cell_type": "markdown",
   "id": "e6d1d8db",
   "metadata": {},
   "source": [
    "# 5- Count the total number of digits in a number \n",
    "\tnote: don't use conversion or casting to str\n"
   ]
  },
  {
   "cell_type": "code",
   "execution_count": 12,
   "id": "a3039b95",
   "metadata": {},
   "outputs": [
    {
     "name": "stdout",
     "output_type": "stream",
     "text": [
      "Enter your number: 000123\n",
      "3\n"
     ]
    }
   ],
   "source": [
    "digits,num = 0,int(input(\"Enter your number: \")) \n",
    "\n",
    "while num > 0:\n",
    "    digits += 1\n",
    "    num //=10\n",
    "    \n",
    "print(digits)"
   ]
  },
  {
   "cell_type": "markdown",
   "id": "7db1280f",
   "metadata": {},
   "source": [
    "# 6- Write a program to use the loop to find the factorial of an input number from user \n",
    "\texample: 5! = 5 × 4 × 3 × 2 × 1 = 120\n"
   ]
  },
  {
   "cell_type": "code",
   "execution_count": 18,
   "id": "697d1a97",
   "metadata": {},
   "outputs": [
    {
     "name": "stdout",
     "output_type": "stream",
     "text": [
      "Enter a number :5\n",
      "120\n"
     ]
    }
   ],
   "source": [
    "fact,num= 1 ,int(input(\"Enter a number :\"))\n",
    "for i in range(1,num+1):\n",
    "    fact*=i\n",
    "print(fact)    "
   ]
  },
  {
   "cell_type": "markdown",
   "id": "1e2a5da2",
   "metadata": {},
   "source": [
    "# bounes\n",
    "7- Write a program to use the loop to Reverse a given integer number\n",
    "\tnote: don't use conversion or casting to str\n",
    "\thint: use % and Integer division // \n",
    "example:-\n",
    "number: 1897\n",
    "result: 7981"
   ]
  },
  {
   "cell_type": "code",
   "execution_count": 20,
   "id": "f1947c1c",
   "metadata": {},
   "outputs": [
    {
     "name": "stdout",
     "output_type": "stream",
     "text": [
      "Enter a number :1897\n",
      "7981\n"
     ]
    }
   ],
   "source": [
    "num ,reversed_num=int(input(\"Enter a number :\")),0\n",
    "while num > 0:\n",
    "    lst_d = num % 10\n",
    "    reversed_num= reversed_num * 10 + lst_d\n",
    "    num = num// 10\n",
    "print(reversed_num)"
   ]
  },
  {
   "cell_type": "code",
   "execution_count": null,
   "id": "e98298e1",
   "metadata": {},
   "outputs": [],
   "source": []
  }
 ],
 "metadata": {
  "kernelspec": {
   "display_name": "Python 3 (ipykernel)",
   "language": "python",
   "name": "python3"
  },
  "language_info": {
   "codemirror_mode": {
    "name": "ipython",
    "version": 3
   },
   "file_extension": ".py",
   "mimetype": "text/x-python",
   "name": "python",
   "nbconvert_exporter": "python",
   "pygments_lexer": "ipython3",
   "version": "3.9.13"
  }
 },
 "nbformat": 4,
 "nbformat_minor": 5
}
