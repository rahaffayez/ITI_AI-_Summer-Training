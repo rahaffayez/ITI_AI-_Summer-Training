{
 "cells": [
  {
   "cell_type": "markdown",
   "id": "08a576f7",
   "metadata": {},
   "source": [
    "# 1- Write a function to count the number of vowels in a given string.\n"
   ]
  },
  {
   "cell_type": "code",
   "execution_count": 5,
   "id": "d8f47461",
   "metadata": {},
   "outputs": [
    {
     "name": "stdout",
     "output_type": "stream",
     "text": [
      "Enter a string :Europe\n",
      "The number of vowels : 4\n"
     ]
    }
   ],
   "source": [
    "def count_vowels(word):\n",
    "    vowels = 'aeiouAEIOU'\n",
    "    count=0\n",
    "    for i in word:\n",
    "        for j in vowels:\n",
    "            if i==j:\n",
    "                count+=1\n",
    "    return(count)            \n",
    "word=input(\"Enter a string :\")\n",
    "print(f\"The number of vowels : {count_vowels(word)}\")"
   ]
  },
  {
   "cell_type": "markdown",
   "id": "35b9cf85",
   "metadata": {},
   "source": [
    "# 2- Write a function to capitalize the first letter of each word in a given sentence.\n"
   ]
  },
  {
   "cell_type": "code",
   "execution_count": 17,
   "id": "0e4d0f6a",
   "metadata": {},
   "outputs": [
    {
     "name": "stdout",
     "output_type": "stream",
     "text": [
      "Enter a sentence :rahaf wants to sleep\n",
      "Rahaf Wants To Sleep\n"
     ]
    }
   ],
   "source": [
    "def capitalize_fstl(sentence):\n",
    "    words = sentence.split()\n",
    "    capitalized_words = [word.capitalize() for word in words]\n",
    "    return ' '.join(capitalized_words)\n",
    "\n",
    "\n",
    "sent=input(\"Enter a sentence :\")\n",
    "print(capitalize_fstl(sent))\n",
    "\n",
    "\n"
   ]
  },
  {
   "cell_type": "markdown",
   "id": "5fb6a705",
   "metadata": {},
   "source": [
    "# 3- Create a Rectangle class with attributes \"length\" and \"width\". Implement methods to calculate the area and perimeter of the rectangle.\n"
   ]
  },
  {
   "cell_type": "code",
   "execution_count": 20,
   "id": "8557b197",
   "metadata": {},
   "outputs": [
    {
     "name": "stdout",
     "output_type": "stream",
     "text": [
      "Enter the length and width of the rectangle: 2 4\n",
      "Area of the rectangle: 8\n",
      "Perimeter of the rectangle: 12\n"
     ]
    }
   ],
   "source": [
    "class Rectangle:\n",
    "    def __init__(self, length, width):\n",
    "        self.length = length\n",
    "        self.width = width\n",
    "\n",
    "    def area(self):\n",
    "        return self.length * self.width\n",
    "\n",
    "    def perimeter(self):\n",
    "        return 2 * (self.length + self.width)\n",
    "\n",
    "length ,width = map(int,input(\"Enter the length and width of the rectangle: \").split())\n",
    "\n",
    "rect = Rectangle(length, width)\n",
    "\n",
    "print(\"Area of the rectangle:\", rect.area())        \n",
    "print(\"Perimeter of the rectangle:\", rect.perimeter())  "
   ]
  },
  {
   "cell_type": "markdown",
   "id": "aea54972",
   "metadata": {},
   "source": [
    "# 4- Write a Python function to sum all the numbers in a list using for loop not sum() function\n"
   ]
  },
  {
   "cell_type": "code",
   "execution_count": 10,
   "id": "7b3a672e",
   "metadata": {},
   "outputs": [
    {
     "name": "stdout",
     "output_type": "stream",
     "text": [
      "Enter a list : 1 2 3 4 5\n",
      "Sum of the list: 15\n"
     ]
    }
   ],
   "source": [
    "def list_sum(numbers):\n",
    "    sum = 0\n",
    "    for num in numbers:\n",
    "        sum += num\n",
    "    return sum\n",
    "\n",
    "numbers = list(map(int,input(\"Enter a list : \").split()))\n",
    "\n",
    "\n",
    "total= list_sum(numbers)\n",
    "print(\"Sum of the list:\", total)\n"
   ]
  },
  {
   "cell_type": "markdown",
   "id": "1268ae20",
   "metadata": {},
   "source": [
    "# 5- Write a Python function that accepts a string and counts the number of upper and lower case letters.\n",
    "    Sample String : 'The quick Brow Fox'\n",
    "    Expected Output :\n",
    "    No. of Upper case characters : 3\n",
    "    No. of Lower case Characters : 12\n",
    "\n"
   ]
  },
  {
   "cell_type": "code",
   "execution_count": 12,
   "id": "afe89051",
   "metadata": {},
   "outputs": [
    {
     "name": "stdout",
     "output_type": "stream",
     "text": [
      "Enter a string: The quick Brow Fox\n",
      "No. of Upper case characters : 3\n",
      "No. of Lower case characters : 12\n"
     ]
    }
   ],
   "source": [
    "def count_characters(sent):\n",
    "    upper_cnt = 0\n",
    "    lower_cnt = 0\n",
    "    \n",
    "    for i in sent:\n",
    "        if i.isupper():\n",
    "            upper_cnt += 1\n",
    "        elif i.islower():\n",
    "            lower_cnt += 1\n",
    "            \n",
    "    return upper_cnt, lower_cnt\n",
    "\n",
    "upper_cnt, lower_cnt = count_characters(input(\"Enter a string: \"))\n",
    "\n",
    "print(f'No. of Upper case characters : {upper_cnt}')\n",
    "print(f'No. of Lower case characters : {lower_cnt}')\n"
   ]
  },
  {
   "cell_type": "code",
   "execution_count": null,
   "id": "bb33b735",
   "metadata": {},
   "outputs": [],
   "source": []
  }
 ],
 "metadata": {
  "kernelspec": {
   "display_name": "Python 3 (ipykernel)",
   "language": "python",
   "name": "python3"
  },
  "language_info": {
   "codemirror_mode": {
    "name": "ipython",
    "version": 3
   },
   "file_extension": ".py",
   "mimetype": "text/x-python",
   "name": "python",
   "nbconvert_exporter": "python",
   "pygments_lexer": "ipython3",
   "version": "3.9.13"
  }
 },
 "nbformat": 4,
 "nbformat_minor": 5
}
