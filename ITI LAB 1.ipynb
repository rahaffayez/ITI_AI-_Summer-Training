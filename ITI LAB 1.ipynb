{
 "cells": [
  {
   "cell_type": "markdown",
   "id": "8d66f03c",
   "metadata": {},
   "source": [
    "# 1- write 3 variable and check for it's data types using type() function\n"
   ]
  },
  {
   "cell_type": "code",
   "execution_count": 2,
   "id": "486eeb88",
   "metadata": {},
   "outputs": [
    {
     "name": "stdout",
     "output_type": "stream",
     "text": [
      "<class 'int'>\n",
      "<class 'float'>\n",
      "<class 'str'>\n"
     ]
    }
   ],
   "source": [
    "\n",
    "var1 = 5\n",
    "var2 = 3.35\n",
    "var3 = \"Rahaf\"\n",
    "\n",
    "print(type(var1))  \n",
    "print(type(var2)) \n",
    "print(type(var3))  \n"
   ]
  },
  {
   "cell_type": "markdown",
   "id": "cb08ed43",
   "metadata": {},
   "source": [
    "# 2- write 3 variable and take it in one line using split() function and print it\n"
   ]
  },
  {
   "cell_type": "code",
   "execution_count": 3,
   "id": "b1e95708",
   "metadata": {},
   "outputs": [
    {
     "name": "stdout",
     "output_type": "stream",
     "text": [
      "Enter 3 numbers :5 6 7\n",
      "5 6 7\n"
     ]
    }
   ],
   "source": [
    "var1,var2,var3=input(\"Enter 3 numbers :\").split()\n",
    "print(var1, var2, var3)"
   ]
  },
  {
   "cell_type": "markdown",
   "id": "6b8dccf1",
   "metadata": {},
   "source": [
    "# 3- write program take number from user then convert it to string \" casting \" then print lenth of this string using len() function\n"
   ]
  },
  {
   "cell_type": "code",
   "execution_count": 6,
   "id": "74138942",
   "metadata": {},
   "outputs": [
    {
     "name": "stdout",
     "output_type": "stream",
     "text": [
      "Enter a number :564\n",
      "3\n"
     ]
    }
   ],
   "source": [
    "num=int(input(\"Enter a number :\"))\n",
    "num_str=str(num)\n",
    "print(len(num_str))"
   ]
  },
  {
   "cell_type": "markdown",
   "id": "16fd70f3",
   "metadata": {},
   "source": [
    "# 4- you have number and you want to remove last k number from this number implement python program do that and print result\n"
   ]
  },
  {
   "cell_type": "code",
   "execution_count": 8,
   "id": "1cd17f7e",
   "metadata": {},
   "outputs": [
    {
     "name": "stdout",
     "output_type": "stream",
     "text": [
      "Enter a number and a k value : 12345 3\n",
      "12\n"
     ]
    }
   ],
   "source": [
    "num,k=map(int,input(\"Enter a number and a k value : \").split())\n",
    "num=num//10**k\n",
    "print(num)\n"
   ]
  },
  {
   "cell_type": "markdown",
   "id": "3c7349e2",
   "metadata": {},
   "source": [
    "# 5- take integer multiple number in one line using map and split then print maximum and minimum number from it using min and max function \n"
   ]
  },
  {
   "cell_type": "code",
   "execution_count": 16,
   "id": "b1c022d2",
   "metadata": {},
   "outputs": [
    {
     "name": "stdout",
     "output_type": "stream",
     "text": [
      "Enter numbers :4 3 5\n",
      "Maximum number: 5\n",
      "Minimum number: 3\n"
     ]
    }
   ],
   "source": [
    "num1,num2,num3=map(int,input(\"Enter numbers :\").split())\n",
    "\n",
    "max_number = max(num1, num2, num3)\n",
    "min_number = min(num1, num2, num3)\n",
    "\n",
    "\n",
    "print(\"Maximum number:\", max_number)\n",
    "print(\"Minimum number:\", min_number)"
   ]
  },
  {
   "cell_type": "markdown",
   "id": "eac5c4bd",
   "metadata": {},
   "source": [
    "# 6- Write a Python program that finds the minimum of two values a and b.\n"
   ]
  },
  {
   "cell_type": "code",
   "execution_count": 13,
   "id": "b3e648ea",
   "metadata": {},
   "outputs": [
    {
     "name": "stdout",
     "output_type": "stream",
     "text": [
      "Enter two numbers :6 5\n",
      "Minimum value: 5\n"
     ]
    }
   ],
   "source": [
    "num1,num2=map(int,input(\"Enter two numbers :\").split())\n",
    "print(\"Minimum value:\", min(num1, num2))"
   ]
  },
  {
   "cell_type": "markdown",
   "id": "85663bf6",
   "metadata": {},
   "source": [
    "# 7- Write a program that reads an integer salary then:\n",
    "\"\"\"\n",
    "If salary < 1000,\n",
    "\n",
    "   Print you are poor\n",
    "   \n",
    "elif salary greater than or equal to 1000 and less than 20000\n",
    "\n",
    "   Print good salary\n",
    "   \n",
    "elif salary greater than or equal to 20000\n",
    "\n",
    "   Print you are rich\n",
    "\"\"\""
   ]
  },
  {
   "cell_type": "code",
   "execution_count": 14,
   "id": "0b6f66f7",
   "metadata": {},
   "outputs": [
    {
     "name": "stdout",
     "output_type": "stream",
     "text": [
      "Enter your salary :500\n",
      "You are poor\n"
     ]
    }
   ],
   "source": [
    "salary=int(input(\"Enter your salary :\"))\n",
    "if salary < 1000:\n",
    "    print(\"You are poor\")\n",
    "elif 1000 <= salary < 20000:\n",
    "    print(\"Good salary\")\n",
    "else:\n",
    "    print(\"You are rich\")"
   ]
  },
  {
   "cell_type": "markdown",
   "id": "e707281f",
   "metadata": {},
   "source": [
    "# 8- Write a Python program that receives the age of the user and display whether he/she can drive a car. If the user is above 18 years old, he/she can drive.\n"
   ]
  },
  {
   "cell_type": "code",
   "execution_count": 15,
   "id": "a8e2de42",
   "metadata": {},
   "outputs": [
    {
     "name": "stdout",
     "output_type": "stream",
     "text": [
      "Enter your age: 15\n",
      "You cann't drive a car.\n"
     ]
    }
   ],
   "source": [
    "\n",
    "age = int(input(\"Enter your age: \"))\n",
    "\n",
    "\n",
    "if age > 18:\n",
    "    print(\"You can drive a car.\")\n",
    "else:\n",
    "    print(\"You cann't drive a car.\")\n"
   ]
  },
  {
   "cell_type": "code",
   "execution_count": null,
   "id": "ee555c0b",
   "metadata": {},
   "outputs": [],
   "source": []
  }
 ],
 "metadata": {
  "kernelspec": {
   "display_name": "Python 3 (ipykernel)",
   "language": "python",
   "name": "python3"
  },
  "language_info": {
   "codemirror_mode": {
    "name": "ipython",
    "version": 3
   },
   "file_extension": ".py",
   "mimetype": "text/x-python",
   "name": "python",
   "nbconvert_exporter": "python",
   "pygments_lexer": "ipython3",
   "version": "3.9.13"
  }
 },
 "nbformat": 4,
 "nbformat_minor": 5
}
