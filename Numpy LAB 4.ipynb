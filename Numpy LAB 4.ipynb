{
 "cells": [
  {
   "cell_type": "markdown",
   "id": "1045dcc9",
   "metadata": {},
   "source": [
    "# 1- Create a NumPy program to create a 3x3 identity matrix"
   ]
  },
  {
   "cell_type": "code",
   "execution_count": 1,
   "id": "ef52cf42",
   "metadata": {},
   "outputs": [
    {
     "name": "stdout",
     "output_type": "stream",
     "text": [
      "3x3 Identity Matrix:\n",
      "[[1 0 0]\n",
      " [0 1 0]\n",
      " [0 0 1]]\n"
     ]
    }
   ],
   "source": [
    "import numpy as np\n",
    "identity_matrix = np.array([[1 if i == j else 0 for j in range(3)] for i in range(3)])\n",
    "print(f\"3x3 Identity Matrix:\\n{identity_matrix}\")"
   ]
  },
  {
   "cell_type": "markdown",
   "id": "ac3a7d53",
   "metadata": {},
   "source": [
    "# 2- Create a NumPy program to generate 5 random number between 0 and 1\n"
   ]
  },
  {
   "cell_type": "code",
   "execution_count": 2,
   "id": "f2346568",
   "metadata": {},
   "outputs": [
    {
     "name": "stdout",
     "output_type": "stream",
     "text": [
      "5 Random Numbers between 0 and 1: [0.98686873 0.97003974 0.49728216 0.31395501 0.05087008]\n"
     ]
    }
   ],
   "source": [
    "import numpy as np\n",
    "numbers = np.random.rand(5)\n",
    "print(f\"5 Random Numbers between 0 and 1: {numbers}\")"
   ]
  },
  {
   "cell_type": "markdown",
   "id": "b6c56df1",
   "metadata": {},
   "source": [
    "# 3- Write a NumPy program to append values to the end of an array.\n",
    "\tExpected Output:\n",
    "\tOriginal array:\n",
    "\t[10, 20, 30]\n",
    "\tAfter append values to the end of the array:\n",
    "\t[10 20 30 40 50 60 70 80 90]\n",
    "\n"
   ]
  },
  {
   "cell_type": "code",
   "execution_count": 3,
   "id": "73cb937e",
   "metadata": {},
   "outputs": [
    {
     "name": "stdout",
     "output_type": "stream",
     "text": [
      "Original array:\n",
      "[10 20 30]\n",
      "After appending values to the end of the array:\n",
      "[10 20 30 40 50 60 70 80 90]\n"
     ]
    }
   ],
   "source": [
    "import numpy as np\n",
    "original_array = np.array([10, 20, 30])\n",
    "values_to_append = np.array([40, 50, 60, 70, 80, 90])\n",
    "\n",
    "result_array = np.append(original_array, values_to_append)\n",
    "\n",
    "print(f\"Original array:\\n{original_array}\")\n",
    "print(f\"After appending values to the end of the array:\\n{result_array}\")\n"
   ]
  },
  {
   "cell_type": "markdown",
   "id": "2cf1e9fc",
   "metadata": {},
   "source": [
    "# 4- Write a NumPy program to create a 3X4 array and iterate over it using nditer.\n"
   ]
  },
  {
   "cell_type": "code",
   "execution_count": 7,
   "id": "92486cfd",
   "metadata": {},
   "outputs": [
    {
     "name": "stdout",
     "output_type": "stream",
     "text": [
      "Iterating over the 3x4 array:\n",
      "1 2 3 4 5 6 7 8 9 10 11 12 "
     ]
    }
   ],
   "source": [
    "import numpy as np\n",
    "\n",
    "arr = np.array([[1, 2, 3, 4],\n",
    "                  [5, 6, 7, 8],\n",
    "                  [9, 10, 11, 12]])\n",
    "\n",
    "print(\"Iterating over the 3x4 array:\")\n",
    "for element in np.nditer(arr):\n",
    "    print(element, end=' ')\n"
   ]
  },
  {
   "cell_type": "markdown",
   "id": "655708ff",
   "metadata": {},
   "source": [
    "# 5- Write a NumPy program to create a 1-D array then convert it into 2-D array then print value and position for each value using ndenumerate.\n",
    "\n"
   ]
  },
  {
   "cell_type": "code",
   "execution_count": 6,
   "id": "90f291d4",
   "metadata": {},
   "outputs": [
    {
     "name": "stdout",
     "output_type": "stream",
     "text": [
      "Position: (0, 0), Value: 1\n",
      "Position: (0, 1), Value: 2\n",
      "Position: (0, 2), Value: 3\n",
      "Position: (0, 3), Value: 4\n",
      "Position: (0, 4), Value: 5\n",
      "Position: (1, 0), Value: 6\n",
      "Position: (1, 1), Value: 7\n",
      "Position: (1, 2), Value: 8\n",
      "Position: (1, 3), Value: 9\n",
      "Position: (1, 4), Value: 10\n"
     ]
    }
   ],
   "source": [
    "import numpy as np\n",
    "\n",
    "arr_1d = np.array([1, 2, 3, 4, 5, 6, 7, 8, 9, 10])\n",
    "arr_2d = arr_1d.reshape((2, 5))\n",
    "\n",
    "for index, value in np.ndenumerate(arr_2d):\n",
    "    print(f\"Position: {index}, Value: {value}\")\n"
   ]
  },
  {
   "cell_type": "code",
   "execution_count": null,
   "id": "872530ef",
   "metadata": {},
   "outputs": [],
   "source": []
  }
 ],
 "metadata": {
  "kernelspec": {
   "display_name": "Python 3 (ipykernel)",
   "language": "python",
   "name": "python3"
  },
  "language_info": {
   "codemirror_mode": {
    "name": "ipython",
    "version": 3
   },
   "file_extension": ".py",
   "mimetype": "text/x-python",
   "name": "python",
   "nbconvert_exporter": "python",
   "pygments_lexer": "ipython3",
   "version": "3.9.13"
  }
 },
 "nbformat": 4,
 "nbformat_minor": 5
}
