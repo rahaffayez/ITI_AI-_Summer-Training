{
 "cells": [
  {
   "cell_type": "code",
   "execution_count": 13,
   "id": "00f9af4d-2a7e-43cd-956a-f70ed328b8d0",
   "metadata": {},
   "outputs": [
    {
     "name": "stdout",
     "output_type": "stream",
     "text": [
      "0 3 6 9 12 "
     ]
    }
   ],
   "source": [
    "for i in range(0, 13, 3):\n",
    "     print(i, end= \" \")\n"
   ]
  },
  {
   "cell_type": "code",
   "execution_count": 10,
   "id": "732d9b40-e68e-455f-96cb-4a0247cf2d1e",
   "metadata": {},
   "outputs": [
    {
     "name": "stdout",
     "output_type": "stream",
     "text": [
      "index 0 value 0\n",
      "index 1 value 3\n",
      "index 2 value 6\n",
      "index 3 value 9\n",
      "index 4 value 12\n"
     ]
    }
   ],
   "source": [
    "lst = [0, 3, 6, 9, 12]\n",
    "for idx, val in enumerate(lst):\n",
    "    print( \"index\",idx,\"value\",val)"
   ]
  },
  {
   "cell_type": "code",
   "execution_count": 6,
   "id": "0522809d-8729-4d55-9b27-878fe51f4973",
   "metadata": {},
   "outputs": [
    {
     "name": "stdout",
     "output_type": "stream",
     "text": [
      "[1, 4, 9, 16, 25, 36, 49]\n"
     ]
    }
   ],
   "source": [
    "lst = [1, 2, 3, 4, 5, 6, 7]\n",
    "result = [i ** 2 for i in lst]\n",
    "print(result)\n"
   ]
  },
  {
   "cell_type": "code",
   "execution_count": null,
   "id": "e45a531a-8685-46f7-a842-432b74f0c366",
   "metadata": {},
   "outputs": [],
   "source": []
  }
 ],
 "metadata": {
  "kernelspec": {
   "display_name": "Python 3 (ipykernel)",
   "language": "python",
   "name": "python3"
  },
  "language_info": {
   "codemirror_mode": {
    "name": "ipython",
    "version": 3
   },
   "file_extension": ".py",
   "mimetype": "text/x-python",
   "name": "python",
   "nbconvert_exporter": "python",
   "pygments_lexer": "ipython3",
   "version": "3.11.7"
  }
 },
 "nbformat": 4,
 "nbformat_minor": 5
}
