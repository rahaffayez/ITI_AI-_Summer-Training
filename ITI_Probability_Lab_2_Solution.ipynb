{
 "cells": [
  {
   "cell_type": "markdown",
   "metadata": {},
   "source": [
    "# LAB 2: Indepdenece and Random Variables\n",
    "\n",
    "In this lab you will use python to study the following topics:\n",
    "\n",
    "- Simulate independent events.\n",
    "- Calculate arthemitic mean, sample variance, and sample standard deviation for a dataset."
   ]
  },
  {
   "cell_type": "markdown",
   "metadata": {},
   "source": [
    "# First: you should run this cell"
   ]
  },
  {
   "cell_type": "code",
   "execution_count": 1,
   "metadata": {},
   "outputs": [],
   "source": [
    "# Make all numpy available via shorter 'np' prefix\n",
    "import numpy as np\n",
    "\n",
    "# matplotlib library\n",
    "import matplotlib.pyplot as plt"
   ]
  },
  {
   "cell_type": "markdown",
   "metadata": {},
   "source": [
    "# Problem 1\n",
    "\n",
    "Use NumPy to create simulations and compute **empirical  probability** for the following outcomes. Compare the results with the **theoretical probability**.\n",
    "\n",
    "1. Two fair coin flips produce exactly two heads"
   ]
  },
  {
   "cell_type": "code",
   "execution_count": 10,
   "metadata": {},
   "outputs": [
    {
     "name": "stdout",
     "output_type": "stream",
     "text": [
      "Empirical Probability: 0.2465\n",
      "Theoretical Probability: 0.2500\n"
     ]
    }
   ],
   "source": [
    "\n",
    "n = 10000  \n",
    "\n",
    "np.random.seed(42)\n",
    "\n",
    "flips = np.random.randint(0, 2, size=(n, 2))\n",
    "\n",
    "exactly_two_heads = np.sum(np.all(flips == 1, axis=1))\n",
    "\n",
    "# Compute empirical probability\n",
    "empirical_probability = exactly_two_heads / n\n",
    "\n",
    "# Theoretical probability\n",
    "\n",
    "p_head = 0.5\n",
    "n_flips = 2\n",
    "k_heads = 2\n",
    "\n",
    "# Binomial coefficient\n",
    "from math import comb\n",
    "theoretical_probability = comb(n_flips, k_heads) * (p_head ** k_heads) * ((1 - p_head) ** (n_flips - k_heads))\n",
    "\n",
    "print(f\"Empirical Probability: {empirical_probability:.4f}\")\n",
    "print(f\"Theoretical Probability: {theoretical_probability:.4f}\")"
   ]
  },
  {
   "cell_type": "markdown",
   "metadata": {},
   "source": [
    "2. Three fair coin flips produce exactly one head"
   ]
  },
  {
   "cell_type": "code",
   "execution_count": 14,
   "metadata": {},
   "outputs": [
    {
     "name": "stdout",
     "output_type": "stream",
     "text": [
      "Empirical Probability: 0.3775\n",
      "Theoretical Probability: 0.3750\n"
     ]
    }
   ],
   "source": [
    "\n",
    "n_flips = 3  \n",
    "k_heads = 1  \n",
    "n = 10000  \n",
    "p_head = 0.5  \n",
    "\n",
    "np.random.seed(42)\n",
    "\n",
    "flips = np.random.randint(0, 2, (n, n_flips))\n",
    "\n",
    "\n",
    "one_head = np.sum(np.sum(flips, axis=1) == k_heads)\n",
    "\n",
    "\n",
    "empirical_probability = one_head / n\n",
    "\n",
    "# Compute theoretical probability using binomial distribution\n",
    "theoretical_probability = comb(n_flips, k_heads) * (p_head ** k_heads) * ((1 - p_head) ** (n_flips - k_heads))\n",
    "\n",
    "# Print the results\n",
    "print(f\"Empirical Probability: {empirical_probability:.4f}\")\n",
    "print(f\"Theoretical Probability: {theoretical_probability:.4f}\")\n"
   ]
  },
  {
   "cell_type": "markdown",
   "metadata": {},
   "source": [
    "3. Three biased coin flips with P(H) = 0.6 produce exactly one head"
   ]
  },
  {
   "cell_type": "code",
   "execution_count": 15,
   "metadata": {},
   "outputs": [
    {
     "name": "stdout",
     "output_type": "stream",
     "text": [
      "Empirical Probability: 0.2789\n",
      "Theoretical Probability: 0.2880\n"
     ]
    }
   ],
   "source": [
    "from math import comb\n",
    "p_head = 0.6\n",
    "n_flips = 3\n",
    "k_heads = 1\n",
    "n_simulations = 10000\n",
    "\n",
    "np.random.seed(42)\n",
    "\n",
    "flips = np.random.binomial(n_flips, p_head, n_simulations)\n",
    "\n",
    "one_head = np.sum(flips == k_heads)\n",
    "\n",
    "# Compute empirical probability\n",
    "empirical_probability = one_head / n_simulations\n",
    "\n",
    "# Compute theoretical probability using binomial distribution\n",
    "theoretical_probability = comb(n_flips, k_heads) * (p_head ** k_heads) * ((1 - p_head) ** (n_flips - k_heads))\n",
    "\n",
    "# Print the results\n",
    "print(f\"Empirical Probability: {empirical_probability:.4f}\")\n",
    "print(f\"Theoretical Probability: {theoretical_probability:.4f}\")\n"
   ]
  },
  {
   "cell_type": "markdown",
   "metadata": {},
   "source": [
    "# Problem 2\n",
    "\n",
    "The probability of rain in a day is p = 0.5. Give the python code to simulate the probability of rain during weekend (**i.e rain on any one of the 2 weekend days Friday Or Saturday**) (assume independence between raining days). Compare the results with the theoretical probability."
   ]
  },
  {
   "cell_type": "code",
   "execution_count": 16,
   "metadata": {},
   "outputs": [
    {
     "name": "stdout",
     "output_type": "stream",
     "text": [
      "Empirical Probability: 0.7515\n",
      "Theoretical Probability: 0.7500\n"
     ]
    }
   ],
   "source": [
    "\n",
    "p_rain = 0.5 \n",
    "n_simulations = 100000 \n",
    "\n",
    "np.random.seed(42)\n",
    "\n",
    "rain_days = np.random.binomial(1, p_rain, (n_simulations, 2))\n",
    "\n",
    "rain_at_least_one_day = np.sum(np.any(rain_days == 1, axis=1))\n",
    "\n",
    "# Compute empirical probability\n",
    "empirical_probability = rain_at_least_one_day / n_simulations\n",
    "\n",
    "# Compute theoretical probability\n",
    "prob_no_rain_both_days = (1 - p_rain) ** 2\n",
    "theoretical_probability = 1 - prob_no_rain_both_days\n",
    "\n",
    "# Print the results\n",
    "print(f\"Empirical Probability: {empirical_probability:.4f}\")\n",
    "print(f\"Theoretical Probability: {theoretical_probability:.4f}\")\n"
   ]
  },
  {
   "cell_type": "markdown",
   "metadata": {},
   "source": [
    "# Problem 3\n",
    "Simulate Rolling a fair die $1000$ times. Then calculate the following:\n",
    "\n",
    "- Sample mean\n",
    "- Sample variance\n",
    "- Sample standard deviation\n",
    "\n",
    "Compare the results with the theoretical probability."
   ]
  },
  {
   "cell_type": "code",
   "execution_count": 19,
   "metadata": {},
   "outputs": [
    {
     "name": "stdout",
     "output_type": "stream",
     "text": [
      "Sample Mean: 3.4570\n",
      "Sample Variance: 2.9391\n",
      "Sample Standard Deviation: 1.7144\n",
      "Theoretical Mean: 3.5000\n",
      "Theoretical Variance: 2.9167\n",
      "Theoretical Standard Deviation: 1.7078\n"
     ]
    }
   ],
   "source": [
    "\n",
    "n_rolls = 1000  \n",
    "n_faces = 6  \n",
    "\n",
    "np.random.seed(42)\n",
    "\n",
    "\n",
    "rolls = np.random.randint(1, n_faces + 1, size=n_rolls)\n",
    "\n",
    "# Calculate sample mean, variance, and standard deviation\n",
    "sample_mean = np.mean(rolls)\n",
    "sample_variance = np.var(rolls, ddof=1)\n",
    "sample_std_dev = np.sqrt(sample_variance)\n",
    "\n",
    "# Theoretical values\n",
    "theoretical_mean = (n_faces + 1) / 2\n",
    "theoretical_variance = (n_faces**2 - 1) / 12\n",
    "theoretical_std_dev = np.sqrt(theoretical_variance)\n",
    "\n",
    "# Print the results\n",
    "print(f\"Sample Mean: {sample_mean:.4f}\")\n",
    "print(f\"Sample Variance: {sample_variance:.4f}\")\n",
    "print(f\"Sample Standard Deviation: {sample_std_dev:.4f}\")\n",
    "print(f\"Theoretical Mean: {theoretical_mean:.4f}\")\n",
    "print(f\"Theoretical Variance: {theoretical_variance:.4f}\")\n",
    "print(f\"Theoretical Standard Deviation: {theoretical_std_dev:.4f}\")\n"
   ]
  },
  {
   "cell_type": "code",
   "execution_count": null,
   "metadata": {},
   "outputs": [],
   "source": []
  }
 ],
 "metadata": {
  "kernelspec": {
   "display_name": "Python 3 (ipykernel)",
   "language": "python",
   "name": "python3"
  },
  "language_info": {
   "codemirror_mode": {
    "name": "ipython",
    "version": 3
   },
   "file_extension": ".py",
   "mimetype": "text/x-python",
   "name": "python",
   "nbconvert_exporter": "python",
   "pygments_lexer": "ipython3",
   "version": "3.9.13"
  }
 },
 "nbformat": 4,
 "nbformat_minor": 4
}
